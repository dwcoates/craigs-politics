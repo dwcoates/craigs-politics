{
 "cells": [
  {
   "cell_type": "code",
   "execution_count": 275,
   "metadata": {
    "autoscroll": "json-false",
    "collapsed": false,
    "ein.tags": [
     "worksheet-0"
    ],
    "slideshow": {
     "slide_type": "-"
    }
   },
   "outputs": [],
   "source": [
    "%matplotlib inline\n",
    "import matplotlib as mtl\n",
    "import numpy as np\n",
    "import scipy\n",
    "from scipy import stats\n",
    "import pandas\n",
    "\n",
    "import pprint as pp\n",
    "import pickle\n",
    "\n",
    "pd.options.display.max_colwidth = 1000"
   ]
  },
  {
   "cell_type": "code",
   "execution_count": 513,
   "metadata": {
    "autoscroll": "json-false",
    "collapsed": false,
    "ein.tags": [
     "worksheet-0"
    ],
    "slideshow": {
     "slide_type": "-"
    }
   },
   "outputs": [
    {
     "name": "stdout",
     "output_type": "stream",
     "text": [
      "\n",
      "38,981 total posts exctracted.\n"
     ]
    }
   ],
   "source": [
    "# read us data collected by craigcrawler\n",
    "usa_raw = pd.read_csv(\"data/us.csv\", index_col=0)\n",
    "total_posts_raw = len(usa_raw)\n",
    "state_post_count_raw = usa_raw.groupby(\"state\").count()[\"title\"].sort_values(ascending=False)\n",
    "region_post_count_raw = usa_raw.groupby(\"region\").count()[\"title\"].sort_values(ascending=False)\n",
    "\n",
    "print \"\\n{0:,} total posts exctracted.\".format(total_posts_raw)"
   ]
  },
  {
   "cell_type": "code",
   "execution_count": 514,
   "metadata": {
    "autoscroll": "json-false",
    "collapsed": false,
    "ein.tags": [
     "worksheet-0"
    ],
    "slideshow": {
     "slide_type": "-"
    }
   },
   "outputs": [
    {
     "name": "stdout",
     "output_type": "stream",
     "text": [
      "\n",
      "199 of 38,981 total posts were corrupted during extraction, for a 0.51% corruption rate,\n",
      "with corruptions confined to 23 states.\n"
     ]
    }
   ],
   "source": [
    "# some preprocessing to remove corrupted files\n",
    "def check_titles(post):\n",
    "    \"\"\"\n",
    "    Determines whether a title is properly encoded.\n",
    "    \"\"\"\n",
    "    title = post[\"title\"]\n",
    "    try:\n",
    "        title.encode('ascii')\n",
    "        return True\n",
    "    except UnicodeError:\n",
    "        return False\n",
    "\n",
    "uncorrupted_titles_tv = usa_raw.apply(check_titles, axis=1)\n",
    "\n",
    "usa = usa_raw[uncorrupted_titles_tv]\n",
    "corrupt_posts = usa_raw[~uncorrupted_titles_tv]\n",
    "\n",
    "distinct_states = corrupt_posts[\"state\"].unique()\n",
    "\n",
    "print (\"\\n{0:,} of {1:,} total posts were corrupted during extraction, \"\n",
    "       + \"for a {2:.2f}% corruption rate,\\nwith corruptions confined to {3} \" +\n",
    "       \"states.\").format(len(corrupt_posts),\n",
    "                       total_posts_raw,\n",
    "                       len(corrupt_posts)/float(total_posts_raw) * 100,\n",
    "                       len(distinct_states))\n",
    "\n"
   ]
  },
  {
   "cell_type": "code",
   "execution_count": 523,
   "metadata": {
    "autoscroll": "json-false",
    "collapsed": false,
    "ein.tags": [
     "worksheet-0"
    ],
    "slideshow": {
     "slide_type": "-"
    }
   },
   "outputs": [
    {
     "name": "stdout",
     "output_type": "stream",
     "text": [
      "\n",
      "Top ten most corrupted states:\n",
      "state\n",
      "Pennsylvania    18\n",
      "Maryland         8\n",
      "New York         7\n",
      "California       6\n",
      "Arizona          5\n",
      "Florida          5\n",
      "Washington       4\n",
      "Texas            4\n",
      "Colorado         3\n",
      "Connecticut      3\n",
      "Name: title, dtype: int64\n",
      "\n",
      "A single Trump memester seems to be responsible for the chaos in Pennsylvania.\n",
      "I suspect that these crazy corrupted unicode posts are mostly done by a very small\n",
      "set of people.\n",
      "\n",
      "Random sample of 5 corrupt Pennsylvania posts\n",
      "18505                     ðŸ™ŠðŸ™‰The ZOMBIES are comingðŸ™ŠðŸ™‰\n",
      "18514    ðŸ‘‘HAPPY NEW YEARSðŸ‘‘ America ðŸ‘‘ DONALD J.TRUMPðŸ‘‘\n",
      "18515    ðŸŽ€HAPPY NEW YEARðŸŽ€ AMERICA ðŸ‘‘ DONALD J. TRUMPðŸ‘‘\n",
      "18530              ðŸ’¥DONALD J. TRUMPðŸ’¥[Need a Tissue Anyone]\n",
      "18540                                     ðŸ—½Keep on CryingðŸ—½\n",
      "Name: title, dtype: object\n"
     ]
    }
   ],
   "source": [
    "# some analysis of data corruption\n",
    "corrupted_states_count = corrupt_posts.groupby(\"state\").title.nunique().sort_values(ascending=False)\n",
    "print \"\\nTop ten most corrupted states:\"\n",
    "print corrupted_states_count[:10]\n",
    "\n",
    "pennsylvania = corrupt_posts[corrupt_posts[\"state\"] == \"Pennsylvania\"]\n",
    "\n",
    "print(\"\\nA single Trump memester seems to be responsible for the chaos in Pennsylvania.\\n\" +\n",
    "      \"I suspect that these crazy corrupted unicode posts are mostly done by a very small\\n\" + \n",
    "      \"set of people.\")\n",
    "print \"\\nRandom sample of 5 corrupt Pennsylvania posts\"\n",
    "print pennsylvania[\"title\"][:5]\n"
   ]
  },
  {
   "cell_type": "code",
   "execution_count": 0,
   "metadata": {
    "autoscroll": "json-false",
    "collapsed": false,
    "ein.tags": [
     "worksheet-0"
    ],
    "slideshow": {
     "slide_type": "-"
    }
   },
   "outputs": [],
   "source": [
    "# Search for connection errors. A connection error would result in an entire region being lost.\n",
    "# This can be done by "
   ]
  },
  {
   "cell_type": "code",
   "execution_count": 0,
   "metadata": {
    "autoscroll": "json-false",
    "collapsed": false,
    "ein.tags": [
     "worksheet-0"
    ],
    "slideshow": {
     "slide_type": "-"
    }
   },
   "outputs": [],
   "source": [
    "#\n",
    "# How responsible is trump for my corrupted data?\n",
    "#"
   ]
  },
  {
   "cell_type": "code",
   "execution_count": 524,
   "metadata": {
    "autoscroll": "json-false",
    "collapsed": false,
    "ein.tags": [
     "worksheet-0"
    ],
    "slideshow": {
     "slide_type": "-"
    }
   },
   "outputs": [
    {
     "data": {
      "text/plain": [
       "Series([], Name: HD01_S001, dtype: object)"
      ]
     },
     "execution_count": 524,
     "metadata": {},
     "output_type": "execute_result"
    }
   ],
   "source": [
    "#\n",
    "# US census data for 2010 from the census bureau\n",
    "#\n",
    "census = pd.read_csv(\"data/census/DEC_10_DP_DPDP1_with_ann.csv\")[1:]\n",
    "\n",
    "# keys \n",
    "census_keys = pd.read_csv(\"data/census/DEC_10_DP_G001_with_ann.csv\")[1:]\n",
    "GEO_KEY = \"GEO.display-label\"\n",
    "GEO_ID = \"GEO.id\"\n",
    "TOT_NUM_ID = \"HD01_S001\"\n",
    "TOT_PER_ID = \"HD02_S001\"\n",
    "census_states_keys = list(census_keys[GEO_ID][:52])\n",
    "\n",
    "census[census[GEO_KEY] == census_states_keys[0]][TOT_NUM_ID]\n"
   ]
  },
  {
   "cell_type": "code",
   "execution_count": 536,
   "metadata": {
    "autoscroll": "json-false",
    "collapsed": false,
    "ein.tags": [
     "worksheet-0"
    ],
    "slideshow": {
     "slide_type": "-"
    }
   },
   "outputs": [
    {
     "name": "stdout",
     "output_type": "stream",
     "text": [
      "\n",
      "Top ten most popular states\n",
      "state\n",
      "California      3801\n",
      "Florida         3585\n",
      "Texas           3155\n",
      "New York        2358\n",
      "Colorado        2066\n",
      "Pennsylvania    1881\n",
      "Washington      1400\n",
      "Ohio            1396\n",
      "Arizona         1381\n",
      "Michigan        1359\n",
      "Name: title, dtype: int64\n",
      "\n",
      "Top ten most popular regions\n",
      "region\n",
      "denver, CO               1271\n",
      "new york city            1023\n",
      "seattle-tacoma            883\n",
      "pittsburgh, PA            801\n",
      "phoenix, AZ               790\n",
      "south florida             750\n",
      "los angeles               728\n",
      "minneapolis / st paul     700\n",
      "dallas / fort worth       681\n",
      "SF bay area               679\n",
      "Name: title, dtype: int64\n",
      "\n",
      "\n",
      "7 regions in Colorado\n"
     ]
    }
   ],
   "source": [
    "state_patronage = usa.groupby('state').count()[\"title\"].sort_values(ascending=False)\n",
    "region_patronage = usa.groupby('region').count()[\"title\"].sort_values(ascending=False)\n",
    "\n",
    "print \"\\nTop ten most popular states\"\n",
    "print state_patronage[:10]\n",
    "\n",
    "# Denver is about 10 times as populous as nyc, for example\n",
    "print \"\\nTop ten most popular regions\"\n",
    "print region_patronage[:10]\n",
    "\n",
    "print \"\\n\\n{0} regions in Colorado\".format(usa[usa['state'] == \"Colorado\"][\"region\"].nunique())\n"
   ]
  }
 ],
 "metadata": {
  "kernelspec": {
   "display_name": "Python [default]",
   "name": "python2"
  },
  "name": "politics.ipynb"
 },
 "nbformat": 4,
 "nbformat_minor": 2
}
